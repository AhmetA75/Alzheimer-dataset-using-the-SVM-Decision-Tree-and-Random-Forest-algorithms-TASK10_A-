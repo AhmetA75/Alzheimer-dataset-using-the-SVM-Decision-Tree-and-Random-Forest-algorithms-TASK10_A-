{
  "nbformat": 4,
  "nbformat_minor": 0,
  "metadata": {
    "colab": {
      "provenance": [],
      "authorship_tag": "ABX9TyPlx/6WQfNNd8fHnQtmUooI",
      "include_colab_link": true
    },
    "kernelspec": {
      "name": "python3",
      "display_name": "Python 3"
    },
    "language_info": {
      "name": "python"
    }
  },
  "cells": [
    {
      "cell_type": "markdown",
      "metadata": {
        "id": "view-in-github",
        "colab_type": "text"
      },
      "source": [
        "<a href=\"https://colab.research.google.com/github/AhmetA75/TASK10_A/blob/main/TASK10_A.ipynb\" target=\"_parent\"><img src=\"https://colab.research.google.com/assets/colab-badge.svg\" alt=\"Open In Colab\"/></a>"
      ]
    },
    {
      "cell_type": "code",
      "execution_count": 42,
      "metadata": {
        "id": "rLKlLuF4I_Es"
      },
      "outputs": [],
      "source": [
        "import pandas as pd\n",
        "import numpy as np\n",
        "from sklearn.model_selection import train_test_split, GridSearchCV\n",
        "from sklearn.ensemble import RandomForestClassifier\n",
        "from sklearn.tree import DecisionTreeClassifier\n",
        "from sklearn import svm\n",
        "from time import time\n",
        "import warnings as warn"
      ]
    },
    {
      "cell_type": "code",
      "source": [
        "data= pd.read_excel('Temporary_data3_Left_Right_Copy.xlsx')"
      ],
      "metadata": {
        "id": "IvzDqU4nR5ZB"
      },
      "execution_count": 8,
      "outputs": []
    },
    {
      "cell_type": "code",
      "source": [
        "y = data['CDRGLOB']\n",
        "X = data.drop('CDRGLOB', axis=1)"
      ],
      "metadata": {
        "id": "lYSB5sjxSPTj"
      },
      "execution_count": 24,
      "outputs": []
    },
    {
      "cell_type": "code",
      "source": [
        "X"
      ],
      "metadata": {
        "colab": {
          "base_uri": "https://localhost:8080/",
          "height": 424
        },
        "id": "CQxegPScZkzX",
        "outputId": "9cabc0c6-85a2-47df-ba2b-1ee2f5869646"
      },
      "execution_count": 30,
      "outputs": [
        {
          "output_type": "execute_result",
          "data": {
            "text/plain": [
              "      SEX  EDUC  MARISTAT  INDEPEND  RESIDENC  NACCFAM  ANYMEDS  SMOKYRS  \\\n",
              "0       2    18         1         1         1        1        1        0   \n",
              "1       1    11         1         1         1        1        1        0   \n",
              "2       2    16         1         1         1        1        1       10   \n",
              "3       1    14         1         1         1        0        1        0   \n",
              "4       1    16         1         1         2        0        1       50   \n",
              "...   ...   ...       ...       ...       ...      ...      ...      ...   \n",
              "1349    1    20         1         1         1        1        1        0   \n",
              "1350    1    16         1         2         1        0        1        0   \n",
              "1351    2    14         2         1         1        1        1        0   \n",
              "1352    2    20         3         1         1        1        1       25   \n",
              "1353    2    14         1         1         1        1        1       10   \n",
              "\n",
              "      NACCTBI  DIABETES  ...   RSUPFR  RSUPFRM  RSUPPAR  RSUPPARM  RSUPTEM  \\\n",
              "0           0         0  ...  27.9038   2.2157  10.3481    1.7014  13.4250   \n",
              "1           0         0  ...  29.0600   2.6900   9.2500    1.6300  14.8800   \n",
              "2           0         1  ...  33.0000   2.5400  13.6900    1.5600  16.2300   \n",
              "3           0         1  ...  31.6800   2.4100   9.6400    1.4500  15.1100   \n",
              "4           0         0  ...  28.0631   1.9501   9.1125    1.0427  13.3763   \n",
              "...       ...       ...  ...      ...      ...      ...       ...      ...   \n",
              "1349        0         0  ...  24.6892   2.6528  10.5460    2.1712  14.1128   \n",
              "1350        0         0  ...  24.7908   2.0993  10.4094    1.4855  10.7880   \n",
              "1351        0         0  ...  23.8500   2.1200  12.3900    1.5300  12.6600   \n",
              "1352        0         0  ...  31.3500   2.4300  10.8200    1.7000  13.7700   \n",
              "1353        0         0  ...  21.9900   2.4100   9.8900    1.7600  13.9600   \n",
              "\n",
              "      RSUPTEMM  RSUPMAR  RSUPMARM  RTRTEM  RTRTEMM  \n",
              "0       1.7419   9.8700    1.6792  0.8906   1.1947  \n",
              "1       2.3000   7.2700    1.8900  1.3800   2.0300  \n",
              "2       2.0700  10.1100    1.8400  1.0100   1.5000  \n",
              "3       1.6400  10.3900    1.8300  0.7400   1.1000  \n",
              "4       1.6270   7.5844    1.4595  0.6638   0.8527  \n",
              "...        ...      ...       ...     ...      ...  \n",
              "1349    2.8833   9.3176    2.3582  0.6735   1.0270  \n",
              "1350    1.9027  10.2034    2.0484  0.7267   0.7946  \n",
              "1351    1.9900   9.4800    1.7400  1.1800   1.5900  \n",
              "1352    2.1000  11.1200    2.1400  1.3100   1.5200  \n",
              "1353    2.2000   9.9600    1.8600  0.8300   1.6500  \n",
              "\n",
              "[1354 rows x 185 columns]"
            ],
            "text/html": [
              "\n",
              "  <div id=\"df-5bd321b5-3c07-4819-8a99-438c4d4cdd59\">\n",
              "    <div class=\"colab-df-container\">\n",
              "      <div>\n",
              "<style scoped>\n",
              "    .dataframe tbody tr th:only-of-type {\n",
              "        vertical-align: middle;\n",
              "    }\n",
              "\n",
              "    .dataframe tbody tr th {\n",
              "        vertical-align: top;\n",
              "    }\n",
              "\n",
              "    .dataframe thead th {\n",
              "        text-align: right;\n",
              "    }\n",
              "</style>\n",
              "<table border=\"1\" class=\"dataframe\">\n",
              "  <thead>\n",
              "    <tr style=\"text-align: right;\">\n",
              "      <th></th>\n",
              "      <th>SEX</th>\n",
              "      <th>EDUC</th>\n",
              "      <th>MARISTAT</th>\n",
              "      <th>INDEPEND</th>\n",
              "      <th>RESIDENC</th>\n",
              "      <th>NACCFAM</th>\n",
              "      <th>ANYMEDS</th>\n",
              "      <th>SMOKYRS</th>\n",
              "      <th>NACCTBI</th>\n",
              "      <th>DIABETES</th>\n",
              "      <th>...</th>\n",
              "      <th>RSUPFR</th>\n",
              "      <th>RSUPFRM</th>\n",
              "      <th>RSUPPAR</th>\n",
              "      <th>RSUPPARM</th>\n",
              "      <th>RSUPTEM</th>\n",
              "      <th>RSUPTEMM</th>\n",
              "      <th>RSUPMAR</th>\n",
              "      <th>RSUPMARM</th>\n",
              "      <th>RTRTEM</th>\n",
              "      <th>RTRTEMM</th>\n",
              "    </tr>\n",
              "  </thead>\n",
              "  <tbody>\n",
              "    <tr>\n",
              "      <th>0</th>\n",
              "      <td>2</td>\n",
              "      <td>18</td>\n",
              "      <td>1</td>\n",
              "      <td>1</td>\n",
              "      <td>1</td>\n",
              "      <td>1</td>\n",
              "      <td>1</td>\n",
              "      <td>0</td>\n",
              "      <td>0</td>\n",
              "      <td>0</td>\n",
              "      <td>...</td>\n",
              "      <td>27.9038</td>\n",
              "      <td>2.2157</td>\n",
              "      <td>10.3481</td>\n",
              "      <td>1.7014</td>\n",
              "      <td>13.4250</td>\n",
              "      <td>1.7419</td>\n",
              "      <td>9.8700</td>\n",
              "      <td>1.6792</td>\n",
              "      <td>0.8906</td>\n",
              "      <td>1.1947</td>\n",
              "    </tr>\n",
              "    <tr>\n",
              "      <th>1</th>\n",
              "      <td>1</td>\n",
              "      <td>11</td>\n",
              "      <td>1</td>\n",
              "      <td>1</td>\n",
              "      <td>1</td>\n",
              "      <td>1</td>\n",
              "      <td>1</td>\n",
              "      <td>0</td>\n",
              "      <td>0</td>\n",
              "      <td>0</td>\n",
              "      <td>...</td>\n",
              "      <td>29.0600</td>\n",
              "      <td>2.6900</td>\n",
              "      <td>9.2500</td>\n",
              "      <td>1.6300</td>\n",
              "      <td>14.8800</td>\n",
              "      <td>2.3000</td>\n",
              "      <td>7.2700</td>\n",
              "      <td>1.8900</td>\n",
              "      <td>1.3800</td>\n",
              "      <td>2.0300</td>\n",
              "    </tr>\n",
              "    <tr>\n",
              "      <th>2</th>\n",
              "      <td>2</td>\n",
              "      <td>16</td>\n",
              "      <td>1</td>\n",
              "      <td>1</td>\n",
              "      <td>1</td>\n",
              "      <td>1</td>\n",
              "      <td>1</td>\n",
              "      <td>10</td>\n",
              "      <td>0</td>\n",
              "      <td>1</td>\n",
              "      <td>...</td>\n",
              "      <td>33.0000</td>\n",
              "      <td>2.5400</td>\n",
              "      <td>13.6900</td>\n",
              "      <td>1.5600</td>\n",
              "      <td>16.2300</td>\n",
              "      <td>2.0700</td>\n",
              "      <td>10.1100</td>\n",
              "      <td>1.8400</td>\n",
              "      <td>1.0100</td>\n",
              "      <td>1.5000</td>\n",
              "    </tr>\n",
              "    <tr>\n",
              "      <th>3</th>\n",
              "      <td>1</td>\n",
              "      <td>14</td>\n",
              "      <td>1</td>\n",
              "      <td>1</td>\n",
              "      <td>1</td>\n",
              "      <td>0</td>\n",
              "      <td>1</td>\n",
              "      <td>0</td>\n",
              "      <td>0</td>\n",
              "      <td>1</td>\n",
              "      <td>...</td>\n",
              "      <td>31.6800</td>\n",
              "      <td>2.4100</td>\n",
              "      <td>9.6400</td>\n",
              "      <td>1.4500</td>\n",
              "      <td>15.1100</td>\n",
              "      <td>1.6400</td>\n",
              "      <td>10.3900</td>\n",
              "      <td>1.8300</td>\n",
              "      <td>0.7400</td>\n",
              "      <td>1.1000</td>\n",
              "    </tr>\n",
              "    <tr>\n",
              "      <th>4</th>\n",
              "      <td>1</td>\n",
              "      <td>16</td>\n",
              "      <td>1</td>\n",
              "      <td>1</td>\n",
              "      <td>2</td>\n",
              "      <td>0</td>\n",
              "      <td>1</td>\n",
              "      <td>50</td>\n",
              "      <td>0</td>\n",
              "      <td>0</td>\n",
              "      <td>...</td>\n",
              "      <td>28.0631</td>\n",
              "      <td>1.9501</td>\n",
              "      <td>9.1125</td>\n",
              "      <td>1.0427</td>\n",
              "      <td>13.3763</td>\n",
              "      <td>1.6270</td>\n",
              "      <td>7.5844</td>\n",
              "      <td>1.4595</td>\n",
              "      <td>0.6638</td>\n",
              "      <td>0.8527</td>\n",
              "    </tr>\n",
              "    <tr>\n",
              "      <th>...</th>\n",
              "      <td>...</td>\n",
              "      <td>...</td>\n",
              "      <td>...</td>\n",
              "      <td>...</td>\n",
              "      <td>...</td>\n",
              "      <td>...</td>\n",
              "      <td>...</td>\n",
              "      <td>...</td>\n",
              "      <td>...</td>\n",
              "      <td>...</td>\n",
              "      <td>...</td>\n",
              "      <td>...</td>\n",
              "      <td>...</td>\n",
              "      <td>...</td>\n",
              "      <td>...</td>\n",
              "      <td>...</td>\n",
              "      <td>...</td>\n",
              "      <td>...</td>\n",
              "      <td>...</td>\n",
              "      <td>...</td>\n",
              "      <td>...</td>\n",
              "    </tr>\n",
              "    <tr>\n",
              "      <th>1349</th>\n",
              "      <td>1</td>\n",
              "      <td>20</td>\n",
              "      <td>1</td>\n",
              "      <td>1</td>\n",
              "      <td>1</td>\n",
              "      <td>1</td>\n",
              "      <td>1</td>\n",
              "      <td>0</td>\n",
              "      <td>0</td>\n",
              "      <td>0</td>\n",
              "      <td>...</td>\n",
              "      <td>24.6892</td>\n",
              "      <td>2.6528</td>\n",
              "      <td>10.5460</td>\n",
              "      <td>2.1712</td>\n",
              "      <td>14.1128</td>\n",
              "      <td>2.8833</td>\n",
              "      <td>9.3176</td>\n",
              "      <td>2.3582</td>\n",
              "      <td>0.6735</td>\n",
              "      <td>1.0270</td>\n",
              "    </tr>\n",
              "    <tr>\n",
              "      <th>1350</th>\n",
              "      <td>1</td>\n",
              "      <td>16</td>\n",
              "      <td>1</td>\n",
              "      <td>2</td>\n",
              "      <td>1</td>\n",
              "      <td>0</td>\n",
              "      <td>1</td>\n",
              "      <td>0</td>\n",
              "      <td>0</td>\n",
              "      <td>0</td>\n",
              "      <td>...</td>\n",
              "      <td>24.7908</td>\n",
              "      <td>2.0993</td>\n",
              "      <td>10.4094</td>\n",
              "      <td>1.4855</td>\n",
              "      <td>10.7880</td>\n",
              "      <td>1.9027</td>\n",
              "      <td>10.2034</td>\n",
              "      <td>2.0484</td>\n",
              "      <td>0.7267</td>\n",
              "      <td>0.7946</td>\n",
              "    </tr>\n",
              "    <tr>\n",
              "      <th>1351</th>\n",
              "      <td>2</td>\n",
              "      <td>14</td>\n",
              "      <td>2</td>\n",
              "      <td>1</td>\n",
              "      <td>1</td>\n",
              "      <td>1</td>\n",
              "      <td>1</td>\n",
              "      <td>0</td>\n",
              "      <td>0</td>\n",
              "      <td>0</td>\n",
              "      <td>...</td>\n",
              "      <td>23.8500</td>\n",
              "      <td>2.1200</td>\n",
              "      <td>12.3900</td>\n",
              "      <td>1.5300</td>\n",
              "      <td>12.6600</td>\n",
              "      <td>1.9900</td>\n",
              "      <td>9.4800</td>\n",
              "      <td>1.7400</td>\n",
              "      <td>1.1800</td>\n",
              "      <td>1.5900</td>\n",
              "    </tr>\n",
              "    <tr>\n",
              "      <th>1352</th>\n",
              "      <td>2</td>\n",
              "      <td>20</td>\n",
              "      <td>3</td>\n",
              "      <td>1</td>\n",
              "      <td>1</td>\n",
              "      <td>1</td>\n",
              "      <td>1</td>\n",
              "      <td>25</td>\n",
              "      <td>0</td>\n",
              "      <td>0</td>\n",
              "      <td>...</td>\n",
              "      <td>31.3500</td>\n",
              "      <td>2.4300</td>\n",
              "      <td>10.8200</td>\n",
              "      <td>1.7000</td>\n",
              "      <td>13.7700</td>\n",
              "      <td>2.1000</td>\n",
              "      <td>11.1200</td>\n",
              "      <td>2.1400</td>\n",
              "      <td>1.3100</td>\n",
              "      <td>1.5200</td>\n",
              "    </tr>\n",
              "    <tr>\n",
              "      <th>1353</th>\n",
              "      <td>2</td>\n",
              "      <td>14</td>\n",
              "      <td>1</td>\n",
              "      <td>1</td>\n",
              "      <td>1</td>\n",
              "      <td>1</td>\n",
              "      <td>1</td>\n",
              "      <td>10</td>\n",
              "      <td>0</td>\n",
              "      <td>0</td>\n",
              "      <td>...</td>\n",
              "      <td>21.9900</td>\n",
              "      <td>2.4100</td>\n",
              "      <td>9.8900</td>\n",
              "      <td>1.7600</td>\n",
              "      <td>13.9600</td>\n",
              "      <td>2.2000</td>\n",
              "      <td>9.9600</td>\n",
              "      <td>1.8600</td>\n",
              "      <td>0.8300</td>\n",
              "      <td>1.6500</td>\n",
              "    </tr>\n",
              "  </tbody>\n",
              "</table>\n",
              "<p>1354 rows × 185 columns</p>\n",
              "</div>\n",
              "      <button class=\"colab-df-convert\" onclick=\"convertToInteractive('df-5bd321b5-3c07-4819-8a99-438c4d4cdd59')\"\n",
              "              title=\"Convert this dataframe to an interactive table.\"\n",
              "              style=\"display:none;\">\n",
              "        \n",
              "  <svg xmlns=\"http://www.w3.org/2000/svg\" height=\"24px\"viewBox=\"0 0 24 24\"\n",
              "       width=\"24px\">\n",
              "    <path d=\"M0 0h24v24H0V0z\" fill=\"none\"/>\n",
              "    <path d=\"M18.56 5.44l.94 2.06.94-2.06 2.06-.94-2.06-.94-.94-2.06-.94 2.06-2.06.94zm-11 1L8.5 8.5l.94-2.06 2.06-.94-2.06-.94L8.5 2.5l-.94 2.06-2.06.94zm10 10l.94 2.06.94-2.06 2.06-.94-2.06-.94-.94-2.06-.94 2.06-2.06.94z\"/><path d=\"M17.41 7.96l-1.37-1.37c-.4-.4-.92-.59-1.43-.59-.52 0-1.04.2-1.43.59L10.3 9.45l-7.72 7.72c-.78.78-.78 2.05 0 2.83L4 21.41c.39.39.9.59 1.41.59.51 0 1.02-.2 1.41-.59l7.78-7.78 2.81-2.81c.8-.78.8-2.07 0-2.86zM5.41 20L4 18.59l7.72-7.72 1.47 1.35L5.41 20z\"/>\n",
              "  </svg>\n",
              "      </button>\n",
              "      \n",
              "  <style>\n",
              "    .colab-df-container {\n",
              "      display:flex;\n",
              "      flex-wrap:wrap;\n",
              "      gap: 12px;\n",
              "    }\n",
              "\n",
              "    .colab-df-convert {\n",
              "      background-color: #E8F0FE;\n",
              "      border: none;\n",
              "      border-radius: 50%;\n",
              "      cursor: pointer;\n",
              "      display: none;\n",
              "      fill: #1967D2;\n",
              "      height: 32px;\n",
              "      padding: 0 0 0 0;\n",
              "      width: 32px;\n",
              "    }\n",
              "\n",
              "    .colab-df-convert:hover {\n",
              "      background-color: #E2EBFA;\n",
              "      box-shadow: 0px 1px 2px rgba(60, 64, 67, 0.3), 0px 1px 3px 1px rgba(60, 64, 67, 0.15);\n",
              "      fill: #174EA6;\n",
              "    }\n",
              "\n",
              "    [theme=dark] .colab-df-convert {\n",
              "      background-color: #3B4455;\n",
              "      fill: #D2E3FC;\n",
              "    }\n",
              "\n",
              "    [theme=dark] .colab-df-convert:hover {\n",
              "      background-color: #434B5C;\n",
              "      box-shadow: 0px 1px 3px 1px rgba(0, 0, 0, 0.15);\n",
              "      filter: drop-shadow(0px 1px 2px rgba(0, 0, 0, 0.3));\n",
              "      fill: #FFFFFF;\n",
              "    }\n",
              "  </style>\n",
              "\n",
              "      <script>\n",
              "        const buttonEl =\n",
              "          document.querySelector('#df-5bd321b5-3c07-4819-8a99-438c4d4cdd59 button.colab-df-convert');\n",
              "        buttonEl.style.display =\n",
              "          google.colab.kernel.accessAllowed ? 'block' : 'none';\n",
              "\n",
              "        async function convertToInteractive(key) {\n",
              "          const element = document.querySelector('#df-5bd321b5-3c07-4819-8a99-438c4d4cdd59');\n",
              "          const dataTable =\n",
              "            await google.colab.kernel.invokeFunction('convertToInteractive',\n",
              "                                                     [key], {});\n",
              "          if (!dataTable) return;\n",
              "\n",
              "          const docLinkHtml = 'Like what you see? Visit the ' +\n",
              "            '<a target=\"_blank\" href=https://colab.research.google.com/notebooks/data_table.ipynb>data table notebook</a>'\n",
              "            + ' to learn more about interactive tables.';\n",
              "          element.innerHTML = '';\n",
              "          dataTable['output_type'] = 'display_data';\n",
              "          await google.colab.output.renderOutput(dataTable, element);\n",
              "          const docLink = document.createElement('div');\n",
              "          docLink.innerHTML = docLinkHtml;\n",
              "          element.appendChild(docLink);\n",
              "        }\n",
              "      </script>\n",
              "    </div>\n",
              "  </div>\n",
              "  "
            ]
          },
          "metadata": {},
          "execution_count": 30
        }
      ]
    },
    {
      "cell_type": "code",
      "source": [
        "#data.head(100)"
      ],
      "metadata": {
        "id": "G9WhYOofSgk4"
      },
      "execution_count": 31,
      "outputs": []
    },
    {
      "cell_type": "code",
      "source": [
        "x_train, x_test, y_train, y_test = train_test_split(X, y, test_size=0.25, stratify=y)"
      ],
      "metadata": {
        "id": "27JCDtbAWXIr"
      },
      "execution_count": 32,
      "outputs": []
    },
    {
      "cell_type": "code",
      "source": [
        "decision_tree = DecisionTreeClassifier()  \n",
        "random_forest = RandomForestClassifier()\n",
        "SVC = svm.LinearSVC()"
      ],
      "metadata": {
        "id": "o1F7y7AyWrX_"
      },
      "execution_count": 33,
      "outputs": []
    },
    {
      "cell_type": "code",
      "source": [
        "decision_tree.fit(X=x_train, y=y_train) #Classified Features\n",
        "random_forest.fit(X=x_train, y=y_train)\n",
        "SVC.fit(X=x_train, y=y_train)"
      ],
      "metadata": {
        "colab": {
          "base_uri": "https://localhost:8080/"
        },
        "id": "VqTcmGFKXmua",
        "outputId": "f5816278-dc1f-418a-a028-dc43ba85fc29"
      },
      "execution_count": 34,
      "outputs": [
        {
          "output_type": "stream",
          "name": "stderr",
          "text": [
            "/usr/local/lib/python3.7/dist-packages/sklearn/svm/_base.py:1208: ConvergenceWarning: Liblinear failed to converge, increase the number of iterations.\n",
            "  ConvergenceWarning,\n"
          ]
        },
        {
          "output_type": "execute_result",
          "data": {
            "text/plain": [
              "LinearSVC()"
            ]
          },
          "metadata": {},
          "execution_count": 34
        }
      ]
    },
    {
      "cell_type": "code",
      "source": [
        "print(f'TEST ACC DT ==> {decision_tree.score(x_test, y_test)}') \n",
        "print(f'TEST ACC RF ==> {random_forest.score(x_test, y_test)}')\n",
        "print(f'TEST ACC SVC ==> {SVC.score(x_test, y_test)}')"
      ],
      "metadata": {
        "colab": {
          "base_uri": "https://localhost:8080/"
        },
        "id": "5CDAD_iUX4t1",
        "outputId": "a733c265-1ad1-40cf-c365-044b1c9ab12d"
      },
      "execution_count": 37,
      "outputs": [
        {
          "output_type": "stream",
          "name": "stdout",
          "text": [
            "TEST ACC DT ==> 0.6047197640117994\n",
            "TEST ACC RF ==> 0.6607669616519174\n",
            "TEST ACC SVC ==> 0.5339233038348082\n"
          ]
        }
      ]
    },
    {
      "cell_type": "code",
      "source": [],
      "metadata": {
        "id": "tMNfAo9Vg5TC"
      },
      "execution_count": null,
      "outputs": []
    },
    {
      "cell_type": "code",
      "source": [
        "warn.simplefilter('ignore')"
      ],
      "metadata": {
        "id": "SAmFLjhKjK2C"
      },
      "execution_count": 45,
      "outputs": []
    },
    {
      "cell_type": "code",
      "source": [
        "decision_tree_param = {\n",
        "                    'criterion' : ['chi','gini'],\n",
        "                    'min_samples_split': [2,4],\n",
        "                    'min_samples_leaf' : [1,2,3,4,5],\n",
        "                    'random_state': [22],\n",
        "                    'ccp_alpha': [0.1 ,0.2, 0.5]}"
      ],
      "metadata": {
        "id": "n_WByHDQaQkn"
      },
      "execution_count": 39,
      "outputs": []
    },
    {
      "cell_type": "code",
      "source": [
        "random_forest_param = {\n",
        "                    'n_estimators' : [10,20,50,100],\n",
        "                    'criterion' : ['chi','gini'],\n",
        "                    'min_samples_split': [2,4,6],\n",
        "                    'min_weight_fraction_leaf' : [0.001,0.1,0.2,0.3],\n",
        "                    'verbose' :[0],\n",
        "                    'random_state': [22],\n",
        "                    'ccp_alpha': [0.1 ,0.2, 0.5],\n",
        "                    'max_depth': [1,5,10,20,50, None]}"
      ],
      "metadata": {
        "id": "RBJmI-cklfXF"
      },
      "execution_count": 60,
      "outputs": []
    },
    {
      "cell_type": "code",
      "source": [
        "SVC_param = {\n",
        "                    'penalty' : ['l1','l2'],\n",
        "                    'dual' : [True,False],\n",
        "                    'fit_intercept': [True,False],\n",
        "                    'class_weight' : ['balanced',None],\n",
        "                    'verbose' :[0],\n",
        "                    'random_state': [22,None],\n",
        "                    'max_iter': [10,100,1000]}"
      ],
      "metadata": {
        "id": "kNlSUPhtutsG"
      },
      "execution_count": 62,
      "outputs": []
    },
    {
      "cell_type": "code",
      "source": [
        "grid_decision_tree_5 = GridSearchCV(DecisionTreeClassifier(), decision_tree_param, cv=5) \n",
        "start = time() # For working time and tested by cv=5\n",
        "grid_decision_tree_5.fit(x_train, y_train)\n",
        "print(f'TIME FOR CV=5 ==> {time() - start}')\n",
        "print(f'BEST PARAMS FOR GRID DECISION TREE  CV = 5 ==> {grid_decision_tree_5.best_params_}')\n",
        "print(f'TEST ACC GRID DECISION TREE CV = 5 ==> {grid_decision_tree_5.score(x_test, y_test)}')\n"
      ],
      "metadata": {
        "colab": {
          "base_uri": "https://localhost:8080/"
        },
        "id": "i9D1PFVUiSyx",
        "outputId": "50dabf90-d3eb-45f7-cfc0-8bc240721f75"
      },
      "execution_count": 49,
      "outputs": [
        {
          "output_type": "stream",
          "name": "stdout",
          "text": [
            "TIME FOR CV=5 ==> 19.986003398895264\n",
            "BEST PARAMS FOR GRID DECISION TREE  CV = 5 ==> {'ccp_alpha': 0.1, 'criterion': 'gini', 'min_samples_leaf': 1, 'min_samples_split': 2, 'random_state': 22}\n",
            "TEST ACC GRID DECISION TREE CV = 5 ==> 0.6283185840707964\n"
          ]
        }
      ]
    },
    {
      "cell_type": "code",
      "source": [
        "grid_random_forest_5 = GridSearchCV(RandomForestClassifier(), random_forest_param, cv=5) \n",
        "start = time() # For working time and tested by cv=5\n",
        "grid_random_forest_5.fit(x_train, y_train)\n",
        "print(f'TIME FOR CV=5 ==> {time() - start}')\n",
        "print(f'BEST PARAMS FOR GRID RANDOM FOREST  CV = 5 ==> {grid_random_forest_5.best_params_}')\n",
        "print(f'TEST ACC GRID RANGOM FOREST CV = 5 ==> {grid_random_forest_5.score(x_test, y_test)}')"
      ],
      "metadata": {
        "colab": {
          "base_uri": "https://localhost:8080/"
        },
        "id": "hWdQSViKj7gl",
        "outputId": "15bbae0f-04e3-407e-bae9-980708ed7469"
      },
      "execution_count": 61,
      "outputs": [
        {
          "output_type": "stream",
          "name": "stdout",
          "text": [
            "TIME FOR CV=5 ==> 793.1940739154816\n",
            "BEST PARAMS FOR GRID RANDOM FOREST  CV = 5 ==> {'ccp_alpha': 0.1, 'criterion': 'gini', 'max_depth': 1, 'min_samples_split': 2, 'min_weight_fraction_leaf': 0.001, 'n_estimators': 20, 'random_state': 22, 'verbose': 0}\n",
            "TEST ACC GRID RANGOM FOREST CV = 5 ==> 0.4778761061946903\n"
          ]
        }
      ]
    },
    {
      "cell_type": "code",
      "source": [
        "grid_SVC_5 = GridSearchCV(svm.LinearSVC(), SVC_param, cv=5) \n",
        "start = time() # For working time and tested by cv=5\n",
        "grid_SVC_5.fit(x_train, y_train)\n",
        "print(f'TIME FOR CV=5 ==> {time() - start}')\n",
        "print(f'BEST PARAMS FOR GRID SVC  CV = 5 ==> {grid_SVC_5.best_params_}')\n",
        "print(f'TEST ACC GRID SVC CV = 5 ==> {grid_SVC_5.score(x_test, y_test)}')"
      ],
      "metadata": {
        "colab": {
          "base_uri": "https://localhost:8080/"
        },
        "id": "QsuK75xzx8rF",
        "outputId": "6d6e74a4-37c9-4c96-8655-9e06e57aae74"
      },
      "execution_count": 63,
      "outputs": [
        {
          "output_type": "stream",
          "name": "stdout",
          "text": [
            "TIME FOR CV=5 ==> 153.21070766448975\n",
            "BEST PARAMS FOR GRID SVC  CV = 5 ==> {'class_weight': 'balanced', 'dual': False, 'fit_intercept': False, 'max_iter': 100, 'penalty': 'l1', 'random_state': 22, 'verbose': 0}\n",
            "TEST ACC GRID SVC CV = 5 ==> 0.6873156342182891\n"
          ]
        }
      ]
    },
    {
      "cell_type": "code",
      "source": [
        "from sklearn.metrics import accuracy_score  # for testing our optimized model's efficency"
      ],
      "metadata": {
        "id": "gzOwxGEn0bfC"
      },
      "execution_count": 68,
      "outputs": []
    },
    {
      "cell_type": "code",
      "source": [
        "sample = grid_SVC_5\n",
        "sample.fit(x_train,y_train)"
      ],
      "metadata": {
        "colab": {
          "base_uri": "https://localhost:8080/"
        },
        "id": "iQD8ku3f0bG5",
        "outputId": "21689dcc-8595-45cb-a407-3b545c8d5213"
      },
      "execution_count": 69,
      "outputs": [
        {
          "output_type": "execute_result",
          "data": {
            "text/plain": [
              "GridSearchCV(cv=5, estimator=LinearSVC(),\n",
              "             param_grid={'class_weight': ['balanced', None],\n",
              "                         'dual': [True, False], 'fit_intercept': [True, False],\n",
              "                         'max_iter': [10, 100, 1000], 'penalty': ['l1', 'l2'],\n",
              "                         'random_state': [22, None], 'verbose': [0]})"
            ]
          },
          "metadata": {},
          "execution_count": 69
        }
      ]
    },
    {
      "cell_type": "code",
      "source": [
        "sample_1 = grid_decision_tree_5\n",
        "sample_1.fit(x_train,y_train)"
      ],
      "metadata": {
        "colab": {
          "base_uri": "https://localhost:8080/"
        },
        "id": "xHgRmGHj1miM",
        "outputId": "4d2a299a-793f-4550-cb76-2cd39ed4ebe6"
      },
      "execution_count": 73,
      "outputs": [
        {
          "output_type": "execute_result",
          "data": {
            "text/plain": [
              "GridSearchCV(cv=5, estimator=DecisionTreeClassifier(),\n",
              "             param_grid={'ccp_alpha': [0.1, 0.2, 0.5],\n",
              "                         'criterion': ['chi', 'gini'],\n",
              "                         'min_samples_leaf': [1, 2, 3, 4, 5],\n",
              "                         'min_samples_split': [2, 4], 'random_state': [22]})"
            ]
          },
          "metadata": {},
          "execution_count": 73
        }
      ]
    },
    {
      "cell_type": "code",
      "source": [
        "sample_2 = grid_random_forest_5\n",
        "sample_2.fit(x_train,y_train)"
      ],
      "metadata": {
        "colab": {
          "base_uri": "https://localhost:8080/"
        },
        "id": "-5aL21Kj16ka",
        "outputId": "ffede853-c8db-42ce-82d6-4d489ead744d"
      },
      "execution_count": 74,
      "outputs": [
        {
          "output_type": "execute_result",
          "data": {
            "text/plain": [
              "GridSearchCV(cv=5, estimator=RandomForestClassifier(),\n",
              "             param_grid={'ccp_alpha': [0.1, 0.2, 0.5],\n",
              "                         'criterion': ['chi', 'gini'],\n",
              "                         'max_depth': [1, 5, 10, 20, 50, None],\n",
              "                         'min_samples_split': [2, 4, 6],\n",
              "                         'min_weight_fraction_leaf': [0.001, 0.1, 0.2, 0.3],\n",
              "                         'n_estimators': [10, 20, 50, 100],\n",
              "                         'random_state': [22], 'verbose': [0]})"
            ]
          },
          "metadata": {},
          "execution_count": 74
        }
      ]
    },
    {
      "cell_type": "code",
      "source": [
        "y_sample = sample.predict(x_test)                                                          \n",
        "accuracy=(accuracy_score(y_test, y_sample))                        \n",
        "\n",
        "a=pd.DataFrame([accuracy]);\n",
        "b=a.max()\n",
        "\n",
        "print('The Max Value:',b);"
      ],
      "metadata": {
        "colab": {
          "base_uri": "https://localhost:8080/"
        },
        "id": "kdyO3xBn0uBY",
        "outputId": "8e4fa5b0-e156-41f3-dc4f-2a1323ca1c5d"
      },
      "execution_count": 70,
      "outputs": [
        {
          "output_type": "stream",
          "name": "stdout",
          "text": [
            "The Max Value: 0    0.687316\n",
            "dtype: float64\n"
          ]
        }
      ]
    },
    {
      "cell_type": "code",
      "source": [
        "y_sample1 = sample_1.predict(x_test)\n",
        "accuracy=(accuracy_score(y_test, y_sample1))\n",
        "a=pd.DataFrame([accuracy]);\n",
        "b=a.max()\n",
        "\n",
        "print('The Max Value:',b);"
      ],
      "metadata": {
        "colab": {
          "base_uri": "https://localhost:8080/"
        },
        "id": "ZJ_WLtQX2XVh",
        "outputId": "84d796c4-125d-4817-e143-e45c9b0e4827"
      },
      "execution_count": 75,
      "outputs": [
        {
          "output_type": "stream",
          "name": "stdout",
          "text": [
            "The Max Value: 0    0.628319\n",
            "dtype: float64\n"
          ]
        }
      ]
    },
    {
      "cell_type": "code",
      "source": [
        "y_sample2 = sample_2.predict(x_test)\n",
        "accuracy = (accuracy_score(y_test, y_sample2))\n",
        "a=pd.DataFrame([accuracy]);\n",
        "b=a.max()\n",
        "\n",
        "print('The Max Value:',b);"
      ],
      "metadata": {
        "colab": {
          "base_uri": "https://localhost:8080/"
        },
        "id": "0_yWejHU3NKR",
        "outputId": "44501dea-ecc5-402b-dd00-0bf2279ae898"
      },
      "execution_count": 76,
      "outputs": [
        {
          "output_type": "stream",
          "name": "stdout",
          "text": [
            "The Max Value: 0    0.477876\n",
            "dtype: float64\n"
          ]
        }
      ]
    },
    {
      "cell_type": "code",
      "source": [
        "from sklearn.metrics import classification_report , confusion_matrix"
      ],
      "metadata": {
        "id": "QSpVrBoWzYOg"
      },
      "execution_count": 64,
      "outputs": []
    },
    {
      "cell_type": "code",
      "source": [
        "class_names = ['class 0', 'class 1', 'class 2' , 'class 3']"
      ],
      "metadata": {
        "id": "ldy5eYd8zgqy"
      },
      "execution_count": 65,
      "outputs": []
    },
    {
      "cell_type": "code",
      "source": [
        "print(classification_report(y_sample, y_test, target_names=class_names))"
      ],
      "metadata": {
        "colab": {
          "base_uri": "https://localhost:8080/"
        },
        "id": "VSEJSRUazwJU",
        "outputId": "a0bdbfda-6953-4d6b-c6bb-03226b2651f8"
      },
      "execution_count": 71,
      "outputs": [
        {
          "output_type": "stream",
          "name": "stdout",
          "text": [
            "              precision    recall  f1-score   support\n",
            "\n",
            "     class 0       0.85      0.76      0.80       181\n",
            "     class 1       0.49      0.64      0.55        96\n",
            "     class 2       0.66      0.52      0.58        52\n",
            "     class 3       0.58      0.70      0.64        10\n",
            "\n",
            "    accuracy                           0.69       339\n",
            "   macro avg       0.65      0.65      0.64       339\n",
            "weighted avg       0.71      0.69      0.69       339\n",
            "\n"
          ]
        }
      ]
    },
    {
      "cell_type": "code",
      "source": [
        "print(classification_report(y_sample1, y_test, target_names=class_names))"
      ],
      "metadata": {
        "colab": {
          "base_uri": "https://localhost:8080/"
        },
        "id": "mxqcdS695T6c",
        "outputId": "af9d100e-1caf-4af5-f133-8d363309c5c6"
      },
      "execution_count": 77,
      "outputs": [
        {
          "output_type": "stream",
          "name": "stdout",
          "text": [
            "              precision    recall  f1-score   support\n",
            "\n",
            "     class 0       0.73      0.80      0.77       149\n",
            "     class 1       0.76      0.49      0.60       190\n",
            "     class 2       0.00      0.00      0.00         0\n",
            "     class 3       0.00      0.00      0.00         0\n",
            "\n",
            "    accuracy                           0.63       339\n",
            "   macro avg       0.37      0.32      0.34       339\n",
            "weighted avg       0.75      0.63      0.67       339\n",
            "\n"
          ]
        }
      ]
    },
    {
      "cell_type": "code",
      "source": [
        "print(classification_report(y_sample2, y_test, target_names=class_names))"
      ],
      "metadata": {
        "colab": {
          "base_uri": "https://localhost:8080/"
        },
        "id": "vHCae3aY5Yxu",
        "outputId": "67a42938-82a1-4d9e-83e2-1fd7c6c4580f"
      },
      "execution_count": 78,
      "outputs": [
        {
          "output_type": "stream",
          "name": "stdout",
          "text": [
            "              precision    recall  f1-score   support\n",
            "\n",
            "     class 0       1.00      0.48      0.65       339\n",
            "     class 1       0.00      0.00      0.00         0\n",
            "     class 2       0.00      0.00      0.00         0\n",
            "     class 3       0.00      0.00      0.00         0\n",
            "\n",
            "    accuracy                           0.48       339\n",
            "   macro avg       0.25      0.12      0.16       339\n",
            "weighted avg       1.00      0.48      0.65       339\n",
            "\n"
          ]
        }
      ]
    },
    {
      "cell_type": "code",
      "source": [
        "print(confusion_matrix(y_sample, y_test))"
      ],
      "metadata": {
        "colab": {
          "base_uri": "https://localhost:8080/"
        },
        "id": "VIQUL3st1flQ",
        "outputId": "dc5acdc7-533c-4033-b37b-01182e22cd01"
      },
      "execution_count": 72,
      "outputs": [
        {
          "output_type": "stream",
          "name": "stdout",
          "text": [
            "[[138  42   1   0]\n",
            " [ 23  61  11   1]\n",
            " [  1  20  27   4]\n",
            " [  0   1   2   7]]\n"
          ]
        }
      ]
    },
    {
      "cell_type": "code",
      "source": [
        "print(confusion_matrix(y_sample1, y_test))"
      ],
      "metadata": {
        "colab": {
          "base_uri": "https://localhost:8080/"
        },
        "id": "oijXvf805cK8",
        "outputId": "9e5c77ad-5174-400f-ba05-fe6746d6cb8a"
      },
      "execution_count": 79,
      "outputs": [
        {
          "output_type": "stream",
          "name": "stdout",
          "text": [
            "[[119  30   0   0]\n",
            " [ 43  94  41  12]\n",
            " [  0   0   0   0]\n",
            " [  0   0   0   0]]\n"
          ]
        }
      ]
    },
    {
      "cell_type": "code",
      "source": [
        "print(confusion_matrix(y_sample2, y_test))"
      ],
      "metadata": {
        "colab": {
          "base_uri": "https://localhost:8080/"
        },
        "id": "StybHW-z5d_K",
        "outputId": "526b7acf-c186-4fa8-8ea0-2577c896177e"
      },
      "execution_count": 80,
      "outputs": [
        {
          "output_type": "stream",
          "name": "stdout",
          "text": [
            "[[162 124  41  12]\n",
            " [  0   0   0   0]\n",
            " [  0   0   0   0]\n",
            " [  0   0   0   0]]\n"
          ]
        }
      ]
    },
    {
      "cell_type": "markdown",
      "source": [
        "About Comparization we have three ml algorithms for aimed solution : Random Forest, Decision Tree ,SVC . I applied to three models  for our target and predict colums. Firstly ml algorithms and grid search, also i optimized hyper parameters for each model on grid search. According to grid search results only Random Forest model's accuracy reduced. The remaingins increased after that i applied to all algorithms classification report and confusion matrix"
      ],
      "metadata": {
        "id": "c5ktMVbt5jxA"
      }
    }
  ]
}